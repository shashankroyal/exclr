{
  "nbformat": 4,
  "nbformat_minor": 0,
  "metadata": {
    "colab": {
      "provenance": [],
      "gpuType": "T4",
      "authorship_tag": "ABX9TyNH74KJ2clfF29xbwhc0ET9",
      "include_colab_link": true
    },
    "kernelspec": {
      "name": "python3",
      "display_name": "Python 3"
    },
    "language_info": {
      "name": "python"
    },
    "accelerator": "GPU"
  },
  "cells": [
    {
      "cell_type": "markdown",
      "metadata": {
        "id": "view-in-github",
        "colab_type": "text"
      },
      "source": [
        "<a href=\"https://colab.research.google.com/github/shashankroyal/exclr/blob/main/Sentimental_Analysis.ipynb\" target=\"_parent\"><img src=\"https://colab.research.google.com/assets/colab-badge.svg\" alt=\"Open In Colab\"/></a>"
      ]
    },
    {
      "cell_type": "code",
      "execution_count": 5,
      "metadata": {
        "id": "y9a0Eh1PMFG_"
      },
      "outputs": [],
      "source": [
        "import numpy as np\n",
        "import pandas as pd"
      ]
    },
    {
      "cell_type": "code",
      "source": [
        "df = pd.read_csv(\"https://github.com/suhasmaddali/Twitter-Sentiment-Analysis/raw/refs/heads/main/train.csv\")"
      ],
      "metadata": {
        "id": "tMooSg67OY2V"
      },
      "execution_count": 6,
      "outputs": []
    },
    {
      "cell_type": "code",
      "source": [
        "import nltk\n",
        "from nltk.tokenize import word_tokenize\n",
        "from nltk.corpus import stopwords\n",
        "nltk.download('punkt_tab')\n",
        "nltk.download('stopwords')\n",
        "import re\n",
        "def preprocess_text(text):\n",
        "    if isinstance(text, float):\n",
        "        return \"\"\n",
        "    text = text.lower()  # Lowercase\n",
        "    text = re.sub(r'http\\S+|www.\\S+', '', text)  # Remove URLs\n",
        "    text = re.sub(r'[^a-zA-Z ]', '', text)  # Remove special characters & numbers\n",
        "    words = nltk.word_tokenize(text)  # Tokenization\n",
        "    words = [word for word in words if word not in stopwords.words('english')]  # Remove stopwords\n",
        "    return ' '.join(words)\n",
        "\n",
        "tokens = []\n",
        "for i in range(len(df)):\n",
        "    tokens.append(preprocess_text(df['text'][i]))"
      ],
      "metadata": {
        "colab": {
          "base_uri": "https://localhost:8080/"
        },
        "id": "Cjw9g_yYOKHg",
        "outputId": "a4c53b83-4a45-4ff0-a80b-752383c2d4ab"
      },
      "execution_count": 7,
      "outputs": [
        {
          "output_type": "stream",
          "name": "stderr",
          "text": [
            "[nltk_data] Downloading package punkt_tab to /root/nltk_data...\n",
            "[nltk_data]   Package punkt_tab is already up-to-date!\n",
            "[nltk_data] Downloading package stopwords to /root/nltk_data...\n",
            "[nltk_data]   Package stopwords is already up-to-date!\n"
          ]
        }
      ]
    },
    {
      "cell_type": "code",
      "source": [
        "from gensim.models import Word2Vec\n"
      ],
      "metadata": {
        "id": "xvsqlj4qQOe0"
      },
      "execution_count": 8,
      "outputs": []
    },
    {
      "cell_type": "code",
      "source": [
        "sentence= [word_tokenize(i) for i in tokens]"
      ],
      "metadata": {
        "id": "Sibis1ZrQ8pU"
      },
      "execution_count": 9,
      "outputs": []
    },
    {
      "cell_type": "code",
      "source": [
        "model= Word2Vec(sentence,vector_size=300,window=10,min_count=2,workers=4)"
      ],
      "metadata": {
        "id": "da7VNwgwRFJm"
      },
      "execution_count": 10,
      "outputs": []
    },
    {
      "cell_type": "code",
      "source": [
        "model.wv['thanks']"
      ],
      "metadata": {
        "colab": {
          "base_uri": "https://localhost:8080/"
        },
        "id": "GqskRdOwR-hu",
        "outputId": "67341cc6-e03e-4557-9587-70da42df81f1"
      },
      "execution_count": 11,
      "outputs": [
        {
          "output_type": "execute_result",
          "data": {
            "text/plain": [
              "array([ 0.02919764,  0.45877847, -0.00624671,  0.253415  ,  0.03708597,\n",
              "       -0.3864383 ,  0.38323778,  1.0713935 ,  0.16105576, -0.06491864,\n",
              "       -0.09726589, -0.3655944 ,  0.1626307 , -0.0090749 , -0.44095874,\n",
              "       -0.33796385,  0.21494044, -0.18016167,  0.17187345, -0.09967423,\n",
              "       -0.27643707, -0.13130115,  0.36387298,  0.13060436,  0.38742378,\n",
              "       -0.06882322, -0.5077826 , -0.10513573, -0.23409231, -0.45539805,\n",
              "        0.09323372, -0.14653473,  0.05496429, -0.06260486, -0.16663463,\n",
              "        0.20667043,  0.05274762, -0.5712915 , -0.07554653, -0.01176454,\n",
              "       -0.29898575,  0.04376751, -0.06410037, -0.32183266,  0.22354072,\n",
              "        0.5089354 ,  0.20081541,  0.3484022 , -0.23026589,  0.44216835,\n",
              "        0.2904175 ,  0.15407391, -0.19409408,  0.07568084, -0.02775441,\n",
              "        0.5535602 ,  0.31603828,  0.05710083,  0.04406963,  0.00575613,\n",
              "       -0.16923544, -0.08378077, -0.06945643,  0.1700752 , -0.03955941,\n",
              "        0.17801124,  0.00431926,  0.03806109, -0.20918608, -0.13089396,\n",
              "       -0.07355957,  0.25692162,  0.40842083, -0.32287982, -0.0134682 ,\n",
              "        0.2056466 , -0.3925016 ,  0.03079948, -0.09489929,  0.47237992,\n",
              "       -0.27264535, -0.48028657,  0.15813671,  0.5944871 ,  0.15987496,\n",
              "        0.10371207, -0.20703252,  0.1450238 ,  0.57304555,  0.16507864,\n",
              "        0.5446289 , -0.21110511,  0.46021447,  0.20147534,  0.4296451 ,\n",
              "        0.41429883,  0.2925042 , -0.12863295, -0.2733699 ,  0.28614482,\n",
              "        0.00486562, -0.01393561,  0.21728912,  0.1360358 ,  0.06550016,\n",
              "       -0.30319032, -0.05193346, -0.03300719, -0.429337  ,  0.16729586,\n",
              "       -0.38678864, -0.12199043, -0.06503783,  0.43276465,  0.32363203,\n",
              "        0.07366085, -0.06557655,  0.10416307,  0.7154344 , -0.3334237 ,\n",
              "        0.31618738,  0.21561362,  0.25971755,  0.09075213, -0.41563678,\n",
              "        0.2550098 ,  0.12423418, -0.3892647 , -0.07090978,  0.1676322 ,\n",
              "        0.31207308,  0.6110772 ,  0.07002563, -0.35385734,  0.2732954 ,\n",
              "        0.10358392, -0.16464889, -0.30169216, -0.35763994, -0.45171648,\n",
              "        0.14127801, -0.40808672, -0.05321088,  0.09797224,  0.2984022 ,\n",
              "       -0.21838865, -0.4916774 , -0.1992974 ,  0.204437  , -0.25956178,\n",
              "        0.0867501 , -0.6782687 , -0.43069482, -0.03628344,  0.07693876,\n",
              "        0.25205272, -0.5156129 , -0.32230857, -0.11307698,  0.47950068,\n",
              "        0.04834736,  0.3409398 , -0.5708597 ,  0.36859876, -0.23740931,\n",
              "        0.2181728 ,  0.27447265, -0.23286174,  0.08076884,  0.77700114,\n",
              "       -0.20408517,  0.07388397,  0.21402687,  0.1358294 , -0.12007888,\n",
              "        0.17203526, -0.17445265, -0.2970723 , -0.12796023, -0.06270302,\n",
              "       -0.397668  ,  0.34473434, -0.22854736, -0.26518446, -0.04963872,\n",
              "        0.25812626,  0.54147893,  0.50857353,  0.28287297, -0.5861574 ,\n",
              "       -0.10510556, -0.17788136, -0.47817522,  0.06482691,  0.34036478,\n",
              "       -0.3394757 ,  0.19566634, -0.27345458,  0.23339084, -0.04065053,\n",
              "       -0.33170357,  0.09328702, -0.1651895 , -0.11756042, -0.15787011,\n",
              "       -0.01690643, -0.26636776,  0.03153683,  0.21254759, -0.18831784,\n",
              "        0.05340651, -0.3084391 , -0.27655268, -0.16742982,  0.02187077,\n",
              "       -0.31887332, -0.17734864, -0.89572394, -0.51285857, -0.33773   ,\n",
              "        0.39336014,  0.04445557, -0.2889168 , -0.27912408, -0.33507603,\n",
              "       -0.3196153 ,  0.10113624, -0.09547757, -0.3235485 ,  0.18130429,\n",
              "        0.45373148, -0.09461319, -0.38713273,  0.46301135, -0.2855011 ,\n",
              "        0.25540313, -0.07135209,  0.1712158 ,  0.00814412, -0.62975776,\n",
              "        0.13104771, -0.29912814, -0.39167017,  0.12031174, -0.05807519,\n",
              "       -0.3723284 , -0.06077187,  0.14313667,  0.0225178 ,  0.20035057,\n",
              "        0.1307052 ,  0.06031755,  0.17952661, -0.01301651, -0.5424371 ,\n",
              "       -0.25347283,  0.59353286,  0.2210568 , -0.8321459 , -0.29519713,\n",
              "        0.28901133,  0.40351403,  0.11674752, -0.8134164 , -0.34578156,\n",
              "       -0.02208987,  0.06568117,  0.07187048, -0.37246916,  0.11895469,\n",
              "       -0.2744891 , -0.08874293,  0.02113007, -0.3302025 ,  0.5517603 ,\n",
              "        0.04275487,  0.39293718,  0.05894099, -0.42479247, -0.00730192,\n",
              "        0.15912963, -0.04459855, -0.1345645 ,  0.45011774, -0.04147261,\n",
              "       -0.10614036, -0.7667802 ,  0.40532228, -0.11044358,  0.39327976,\n",
              "        0.10601605,  0.71810097,  0.4271457 ,  0.06777736,  0.31201518,\n",
              "        0.56918514,  0.01047725, -0.26309547,  0.43031427, -0.03908062],\n",
              "      dtype=float32)"
            ]
          },
          "metadata": {},
          "execution_count": 11
        }
      ]
    }
  ]
}